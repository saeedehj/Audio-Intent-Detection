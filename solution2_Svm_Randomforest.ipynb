{
 "cells": [
  {
   "cell_type": "code",
   "execution_count": null,
   "metadata": {},
   "outputs": [],
   "source": [
    "import librosa\n",
    "import pandas as pd\n",
    "import numpy as np\n",
    "from sklearn.ensemble import RandomForestClassifier\n",
    "from sklearn.svm import SVC\n",
    "from sklearn.model_selection import GridSearchCV, train_test_split\n",
    "from sklearn.metrics import accuracy_score\n",
    "from sklearn import preprocessing"
   ]
  },
  {
   "cell_type": "code",
   "execution_count": 1,
   "metadata": {},
   "outputs": [],
   "source": [
    "def feature_extractor(file):\n",
    "    audio_data, audio_sample_rate = librosa.load(file, duration=4.0, offset=0, sr=16000)\n",
    "    padding = 64000 - len(audio_data)\n",
    "    audio_data = np.pad(audio_data, (0, padding), mode='constant')\n",
    "    mfccs_features = librosa.feature.mfcc(y=audio_data, sr=audio_sample_rate, n_mfcc=64)\n",
    "    mfccs_scaled_features = np.mean(mfccs_features.T, axis=0)\n",
    "    return mfccs_scaled_features\n",
    "\n",
    "def load_metadata(file_path):\n",
    "    return pd.read_csv(file_path)"
   ]
  },
  {
   "cell_type": "code",
   "execution_count": null,
   "metadata": {},
   "outputs": [],
   "source": [
    "AUDIO_DATASET_PATH = '/Users/Saeedeh/Downloads'\n",
    "METADATA_FILE = '/Users/Saeedeh/Downloads/dsl_data/development.csv'\n",
    "\n",
    "# Load metadata\n",
    "metadata = load_metadata(METADATA_FILE)\n",
    "\n",
    "metadata[\"action_object\"] = metadata['action'].astype(str) +\"\"+ metadata[\"object\"]\n",
    "extra_features = metadata[['First Language spoken','Current language used for work/school','gender','ageRange']]\n",
    "class_labels = metadata[['action_object']]\n",
    "\n",
    "metadata.head()"
   ]
  },
  {
   "cell_type": "code",
   "execution_count": null,
   "metadata": {},
   "outputs": [],
   "source": [
    "# Feature extraction loop\n",
    "\n",
    "tags_dict_post = {}\n",
    "for index, row in metadata.iterrows():\n",
    "    filename = os.path.join(os.path.abspath(audio_dataset_path),str(row[\"path\"]))\n",
    "    resdict = feature_extractor(filename)\n",
    "    tags_dict_post[index] = resdict\n",
    "tags_dict_post"
   ]
  },
  {
   "cell_type": "code",
   "execution_count": null,
   "metadata": {},
   "outputs": [],
   "source": [
    "fin1 = []\n",
    "for i in tags_dict_post.keys():\n",
    "  tup= (i,tags_dict_post.get(i))\n",
    "  fin1.append(tup)\n",
    "len(fin1)"
   ]
  },
  {
   "cell_type": "code",
   "execution_count": null,
   "metadata": {},
   "outputs": [],
   "source": [
    "extracted_featurs_64 = pd.DataFrame()\n",
    "\n",
    "for i in range(len(fin1)) : \n",
    "  df = pd.DataFrame(fin1[i][1])\n",
    "  df = df.transpose()\n",
    "  extracted_featurs_64 = extracted_featurs_64.append(df)\n",
    "\n",
    "extracted_featurs_64 = extracted_featurs_64.reset_index()\n",
    "extracted_featurs_64 = extracted_featurs_64.drop(['index'], axis =1)"
   ]
  },
  {
   "cell_type": "code",
   "execution_count": null,
   "metadata": {},
   "outputs": [],
   "source": [
    "\n",
    "feaures64 = pd.concat([extracted_featurs_64,extra_features,class_labels],axis=1)\n",
    "feaures64.head()"
   ]
  },
  {
   "cell_type": "code",
   "execution_count": null,
   "metadata": {},
   "outputs": [],
   "source": [
    "# Data preprocessing: label encoding and normalization\n",
    "label_encoder = preprocessing.LabelEncoder()\n",
    "feaures64['action_object'] = label_encoder.fit_transform(feaures64['action_object'])\n",
    "feaures64['Current language used for work/school'] = label_encoder.fit_transform(feaures64['Current language used for work/school'])\n",
    "feaures64['First Language spoken'] = label_encoder.fit_transform(feaures64['First Language spoken'])\n",
    "feaures64['gender'] = label_encoder.fit_transform(feaures64['gender'])\n",
    "feaures64['ageRange'] = label_encoder.fit_transform(feaures64['ageRange'])\n",
    "\n",
    "\n",
    "X = feaures64.drop(['action_object'],axis=1)\n",
    "y = feaures64['action_object'] \n",
    "\n",
    "cols = X.columns\n",
    "min_max_scaler = preprocessing.MinMaxScaler()\n",
    "np_scaled = min_max_scaler.fit_transform(X)\n",
    "\n",
    "X = pd.DataFrame(np_scaled, columns = cols)"
   ]
  },
  {
   "cell_type": "code",
   "execution_count": null,
   "metadata": {},
   "outputs": [],
   "source": [
    "# Split data into train and test sets\n",
    "X_train, X_test, y_train, y_test = train_test_split(X, y, test_size=0.2, random_state=111)\n",
    "X_train.shape, X_test.shape, y_train.shape, y_test.shape"
   ]
  },
  {
   "cell_type": "code",
   "execution_count": null,
   "metadata": {},
   "outputs": [],
   "source": [
    "# Model assessment function\n",
    "def model_assess(model, title=\"Default\"):\n",
    "    model.fit(X_train, y_train)\n",
    "    preds = model.predict(X_test)\n",
    "    print('Accuracy', title, ':', round(accuracy_score(y_test, preds), 5))"
   ]
  },
  {
   "cell_type": "code",
   "execution_count": null,
   "metadata": {},
   "outputs": [],
   "source": [
    "# Random Forest\n",
    "forest = RandomForestClassifier()\n",
    "grid_rf = {'n_estimators': [100],\n",
    "           'criterion': ['entropy', 'gini'], \n",
    "           'max_depth': [None, 2, 5, 10, 50]}\n",
    "gs_rf = GridSearchCV(forest, grid_rf, cv=3, n_jobs=-1)\n",
    "gs_rf.fit(X_train, y_train)\n",
    "print('Best accuracy: %.3f' % gs_rf.best_score_)\n",
    "print('\\nBest params:\\n', gs_rf.best_params_)"
   ]
  },
  {
   "cell_type": "code",
   "execution_count": null,
   "metadata": {},
   "outputs": [],
   "source": [
    "# Support Vector Machine\n",
    "svm = SVC(decision_function_shape=\"ovo\")\n",
    "parameters = {'kernel': ['rbf', 'sigmoid', 'poly'],\n",
    "              'C': [0.1, 1.0, 10.0, 100.0, 1000.0],\n",
    "              'gamma': [0.001, 0.01, 0.1, 1.0]}\n",
    "clf = GridSearchCV(estimator=svm, param_grid=parameters, cv=5)\n",
    "model_assess(clf, \"Support Vector Machine\")\n",
    "print(\"Best : %f using %s\" % (clf.best_score_, clf.best_params_))"
   ]
  }
 ],
 "metadata": {
  "kernelspec": {
   "display_name": "Python 3",
   "language": "python",
   "name": "python3"
  },
  "language_info": {
   "codemirror_mode": {
    "name": "ipython",
    "version": 3
   },
   "file_extension": ".py",
   "mimetype": "text/x-python",
   "name": "python",
   "nbconvert_exporter": "python",
   "pygments_lexer": "ipython3",
   "version": "3.9.6"
  },
  "orig_nbformat": 4,
  "vscode": {
   "interpreter": {
    "hash": "31f2aee4e71d21fbe5cf8b01ff0e069b9275f58929596ceb00d14d90e3e16cd6"
   }
  }
 },
 "nbformat": 4,
 "nbformat_minor": 2
}
